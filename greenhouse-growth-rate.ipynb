{
 "cells": [
  {
   "cell_type": "code",
   "execution_count": null,
   "metadata": {
    "_cell_guid": "b1076dfc-b9ad-4769-8c92-a6c4dae69d19",
    "_uuid": "8f2839f25d086af736a60e9eeb907d3b93b6e0e5",
    "execution": {
     "iopub.execute_input": "2025-05-06T15:29:41.468878Z",
     "iopub.status.busy": "2025-05-06T15:29:41.468513Z",
     "iopub.status.idle": "2025-05-06T15:29:41.476082Z",
     "shell.execute_reply": "2025-05-06T15:29:41.474973Z",
     "shell.execute_reply.started": "2025-05-06T15:29:41.468856Z"
    },
    "trusted": true
   },
   "outputs": [],
   "source": [
    "import warnings\n",
    "warnings.filterwarnings('ignore')\n",
    "\n",
    "import numpy as np\n",
    "import pandas as pd\n",
    "import matplotlib\n",
    "\n",
    "\n",
    "\n",
    "from sklearn.model_selection import train_test_split\n",
    "from sklearn.ensemble import RandomForestRegressor\n",
    "from sklearn.metrics import accuracy_score, confusion_matrix, mean_squared_error"
   ]
  },
  {
   "cell_type": "code",
   "execution_count": null,
   "metadata": {
    "execution": {
     "iopub.execute_input": "2025-05-06T15:29:41.478100Z",
     "iopub.status.busy": "2025-05-06T15:29:41.477706Z",
     "iopub.status.idle": "2025-05-06T15:29:41.629310Z",
     "shell.execute_reply": "2025-05-06T15:29:41.628197Z",
     "shell.execute_reply.started": "2025-05-06T15:29:41.478047Z"
    },
    "trusted": true
   },
   "outputs": [],
   "source": [
    "# Load the dataset\n",
    "data_path = 'Greenhouse Plant Growth Metrics.csv'\n",
    "try:\n",
    "    df = pd.read_csv(data_path, delimiter=',', encoding='ascii')\n",
    "    print('Data loaded successfully.')\n",
    "except Exception as e:\n",
    "    print(f'Error loading data: {e}')\n",
    "\n",
    "# Display the first few rows of the data (to be executed when running the notebook)\n",
    "df.head()"
   ]
  },
  {
   "cell_type": "code",
   "execution_count": null,
   "metadata": {
    "execution": {
     "iopub.execute_input": "2025-05-06T15:29:41.630889Z",
     "iopub.status.busy": "2025-05-06T15:29:41.630523Z",
     "iopub.status.idle": "2025-05-06T15:29:41.664033Z",
     "shell.execute_reply": "2025-05-06T15:29:41.663149Z",
     "shell.execute_reply.started": "2025-05-06T15:29:41.630857Z"
    },
    "trusted": true
   },
   "outputs": [],
   "source": [
    "df.info()\n",
    "\n",
    "# Check for missing values\n",
    "missing_values = df.isnull().sum()\n",
    "print('Missing values in each column:')\n",
    "print(missing_values)\n",
    "\n",
    "# If missing values are found in numeric columns, we may choose to impute or remove observations\n",
    "if missing_values.sum() > 0:\n",
    "    # For the sake of this analysis, we'll fill numeric missing values with the column mean\n",
    "    numeric_cols = df.select_dtypes(include=[np.number]).columns\n",
    "    df[numeric_cols] = df[numeric_cols].fillna(df[numeric_cols].mean())\n",
    "    \n",
    "    # For object types, fill missing values with a placeholder 'Unknown'\n",
    "    object_cols = df.select_dtypes(include=['object']).columns\n",
    "    df[object_cols] = df[object_cols].fillna('Unknown')\n",
    "    print('Missing values were imputed.')\n",
    "else:\n",
    "    print('No missing values found.')\n",
    "\n",
    "# Verify data types\n",
    "print('\\nData types after cleaning:')\n",
    "print(df.dtypes)"
   ]
  },
  {
   "cell_type": "code",
   "execution_count": null,
   "metadata": {
    "execution": {
     "iopub.execute_input": "2025-05-06T15:29:41.666110Z",
     "iopub.status.busy": "2025-05-06T15:29:41.665747Z",
     "iopub.status.idle": "2025-05-06T15:29:41.706545Z",
     "shell.execute_reply": "2025-05-06T15:29:41.705483Z",
     "shell.execute_reply.started": "2025-05-06T15:29:41.666045Z"
    },
    "trusted": true
   },
   "outputs": [],
   "source": [
    "#encode categorical variables\n",
    "df = pd.get_dummies(df, columns = ['Class'])\n",
    "\n",
    "df.head()"
   ]
  },
  {
   "cell_type": "code",
   "execution_count": null,
   "metadata": {
    "execution": {
     "iopub.execute_input": "2025-05-06T15:33:49.179917Z",
     "iopub.status.busy": "2025-05-06T15:33:49.179554Z",
     "iopub.status.idle": "2025-05-06T15:33:49.209652Z",
     "shell.execute_reply": "2025-05-06T15:33:49.208523Z",
     "shell.execute_reply.started": "2025-05-06T15:33:49.179895Z"
    },
    "trusted": true
   },
   "outputs": [],
   "source": [
    "#scale variables\n",
    "from sklearn.preprocessing import MinMaxScaler\n",
    "\n",
    "continuous = [\n",
    "    var for var in df.columns if df[var].dtype.name == 'float64'\n",
    "\n",
    "]\n",
    "\n",
    "MinMax = MinMaxScaler()\n",
    "df[continuous] = MinMax.fit_transform(X=df[continuous])\n"
   ]
  },
  {
   "cell_type": "code",
   "execution_count": null,
   "metadata": {
    "execution": {
     "iopub.execute_input": "2025-05-06T15:38:33.507528Z",
     "iopub.status.busy": "2025-05-06T15:38:33.507116Z",
     "iopub.status.idle": "2025-05-06T15:39:09.311221Z",
     "shell.execute_reply": "2025-05-06T15:39:09.310226Z",
     "shell.execute_reply.started": "2025-05-06T15:38:33.507499Z"
    },
    "trusted": true
   },
   "outputs": [],
   "source": [
    "y = df['PHR'] #PHR represents plant growth rate\n",
    "X = df.drop(columns=['PHR', 'Random'], errors='ignore')  # Exclude 'Random' if not informative\n",
    "\n",
    "\n",
    "# Split the data into training and testing sets\n",
    "X_train, X_test, y_train, y_test = train_test_split(X, y, test_size=0.2, random_state=42)\n",
    "\n",
    "# Instantiate and train the Random Forest Classifier\n",
    "model = RandomForestRegressor(n_estimators=100, random_state=42)\n",
    "model.fit(X_train, y_train)\n",
    "\n",
    "# Make predictions\n",
    "y_pred = model.predict(X_test)\n",
    "\n",
    "mse = mean_squared_error(y_test,y_pred)\n",
    "\n",
    "print(mse)"
   ]
  }
 ],
 "metadata": {
  "kaggle": {
   "accelerator": "none",
   "dataSources": [
    {
     "datasetId": 7188251,
     "sourceId": 11470322,
     "sourceType": "datasetVersion"
    }
   ],
   "dockerImageVersionId": 31012,
   "isGpuEnabled": false,
   "isInternetEnabled": true,
   "language": "python",
   "sourceType": "notebook"
  },
  "kernelspec": {
   "display_name": "Python 3",
   "language": "python",
   "name": "python3"
  },
  "language_info": {
   "codemirror_mode": {
    "name": "ipython",
    "version": 3
   },
   "file_extension": ".py",
   "mimetype": "text/x-python",
   "name": "python",
   "nbconvert_exporter": "python",
   "pygments_lexer": "ipython3",
   "version": "3.11.11"
  }
 },
 "nbformat": 4,
 "nbformat_minor": 4
}
